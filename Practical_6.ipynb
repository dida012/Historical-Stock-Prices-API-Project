{
 "cells": [
  {
   "cell_type": "markdown",
   "id": "bd6f6199",
   "metadata": {},
   "source": [
    "# Practical_6: Numpy"
   ]
  },
  {
   "cell_type": "markdown",
   "id": "de325ed6",
   "metadata": {},
   "source": [
    "---\n",
    "\n",
    "### Exercise 1:\n",
    "Create a NumPy array of integers from 1 to 10.\n"
   ]
  },
  {
   "cell_type": "code",
   "execution_count": 1,
   "id": "9b904697",
   "metadata": {},
   "outputs": [
    {
     "name": "stdout",
     "output_type": "stream",
     "text": [
      "[ 1  2  3  4  5  6  7  8  9 10]\n"
     ]
    }
   ],
   "source": [
    "# Exercise 1\n",
    "import numpy as np\n",
    "\n",
    "arr = np.arange(1, 11)\n",
    "print(arr)"
   ]
  },
  {
   "cell_type": "markdown",
   "id": "745710c7",
   "metadata": {},
   "source": [
    "\n",
    "---\n",
    "\n",
    "### Exercise 2:\n",
    "Create a 3x3 NumPy array filled with zeros.\n"
   ]
  },
  {
   "cell_type": "code",
   "execution_count": 2,
   "id": "875235f1",
   "metadata": {},
   "outputs": [
    {
     "name": "stdout",
     "output_type": "stream",
     "text": [
      "[[0. 0. 0.]\n",
      " [0. 0. 0.]\n",
      " [0. 0. 0.]]\n"
     ]
    }
   ],
   "source": [
    "# Exercise 2\n",
    "import numpy as np\n",
    "\n",
    "zeros_array = np.zeros((3, 3))\n",
    "print(zeros_array)\n"
   ]
  },
  {
   "cell_type": "markdown",
   "id": "a542ea80",
   "metadata": {},
   "source": [
    "\n",
    "---\n",
    "\n",
    "### Exercise 3:\n",
    "Create a NumPy array of 10 evenly spaced numbers between 0 and 5.\n"
   ]
  },
  {
   "cell_type": "code",
   "execution_count": 3,
   "id": "97c6ba4a",
   "metadata": {},
   "outputs": [
    {
     "name": "stdout",
     "output_type": "stream",
     "text": [
      "[0.         0.55555556 1.11111111 1.66666667 2.22222222 2.77777778\n",
      " 3.33333333 3.88888889 4.44444444 5.        ]\n"
     ]
    }
   ],
   "source": [
    "# Exercise 3\n",
    "import numpy as np\n",
    "\n",
    "arr = np.linspace(0, 5, 10)\n",
    "print(arr)\n"
   ]
  },
  {
   "cell_type": "markdown",
   "id": "e92d80cc",
   "metadata": {},
   "source": [
    "\n",
    "---\n",
    "\n",
    "### Exercise 4:\n",
    "Create a 5x5 identity matrix using NumPy.\n"
   ]
  },
  {
   "cell_type": "code",
   "execution_count": 4,
   "id": "c5213bd2",
   "metadata": {},
   "outputs": [
    {
     "name": "stdout",
     "output_type": "stream",
     "text": [
      "[[1. 0. 0. 0. 0.]\n",
      " [0. 1. 0. 0. 0.]\n",
      " [0. 0. 1. 0. 0.]\n",
      " [0. 0. 0. 1. 0.]\n",
      " [0. 0. 0. 0. 1.]]\n"
     ]
    }
   ],
   "source": [
    "# Exercise 4\n",
    "import numpy as np\n",
    "\n",
    "identity_matrix = np.eye(5)\n",
    "print(identity_matrix)\n"
   ]
  },
  {
   "cell_type": "markdown",
   "id": "a16f88e7",
   "metadata": {},
   "source": [
    "\n",
    "---\n",
    "\n",
    "### Exercise 5:\n",
    "Create a 4x4 matrix with random values between 0 and 1.\n"
   ]
  },
  {
   "cell_type": "code",
   "execution_count": 5,
   "id": "2b16922b",
   "metadata": {},
   "outputs": [
    {
     "name": "stdout",
     "output_type": "stream",
     "text": [
      "[[0.11130882 0.98282353 0.63180872 0.89598822]\n",
      " [0.16735628 0.61340618 0.44538413 0.88294859]\n",
      " [0.54382665 0.25707857 0.18413856 0.38175653]\n",
      " [0.51371928 0.23076051 0.17835397 0.86122521]]\n"
     ]
    }
   ],
   "source": [
    "# Exercise 5\n",
    "import numpy as np\n",
    "\n",
    "random_matrix = np.random.rand(4, 4)\n",
    "print(random_matrix)\n"
   ]
  },
  {
   "cell_type": "markdown",
   "id": "cc9af8fd",
   "metadata": {},
   "source": [
    "\n",
    "---\n",
    "\n",
    "### Exercise 6:\n",
    "Find the shape of a NumPy array.\n"
   ]
  },
  {
   "cell_type": "code",
   "execution_count": 6,
   "id": "359864d2",
   "metadata": {},
   "outputs": [
    {
     "name": "stdout",
     "output_type": "stream",
     "text": [
      "(2, 3)\n"
     ]
    }
   ],
   "source": [
    "# Exercise 6\n",
    "import numpy as np\n",
    "\n",
    "arr = np.array([[1, 2, 3],\n",
    "                 [4, 5, 6]])\n",
    "print(arr.shape)\n",
    "\n"
   ]
  },
  {
   "cell_type": "markdown",
   "id": "ada0aff6",
   "metadata": {},
   "source": [
    "\n",
    "---\n",
    "\n",
    "### Exercise 7:\n",
    "Reshape a 1D NumPy array of 16 elements into a 4x4 matrix.\n"
   ]
  },
  {
   "cell_type": "code",
   "execution_count": 7,
   "id": "43fcb4b3",
   "metadata": {},
   "outputs": [
    {
     "name": "stdout",
     "output_type": "stream",
     "text": [
      "[[ 0  1  2  3]\n",
      " [ 4  5  6  7]\n",
      " [ 8  9 10 11]\n",
      " [12 13 14 15]]\n"
     ]
    }
   ],
   "source": [
    "# Exercise 7\n",
    "import numpy as np\n",
    "\n",
    "arr = np.arange(16)  # or any other 1D array with 16 elements\n",
    "reshaped_matrix = arr.reshape(4, 4)\n",
    "print(reshaped_matrix)\n"
   ]
  },
  {
   "cell_type": "markdown",
   "id": "d384142a",
   "metadata": {},
   "source": [
    "\n",
    "---\n",
    "\n",
    "### Exercise 8:\n",
    "Find the data type of the elements in a NumPy array.\n"
   ]
  },
  {
   "cell_type": "code",
   "execution_count": 8,
   "id": "bf4dca5a",
   "metadata": {},
   "outputs": [
    {
     "name": "stdout",
     "output_type": "stream",
     "text": [
      "int32\n"
     ]
    }
   ],
   "source": [
    "# Exercise 8\n",
    "import numpy as np\n",
    "\n",
    "arr = np.array([1, 2, 3])\n",
    "print(arr.dtype)\n"
   ]
  },
  {
   "cell_type": "markdown",
   "id": "c295ca54",
   "metadata": {},
   "source": [
    "\n",
    "---\n",
    "\n",
    "### Exercise 9:\n",
    "Create a NumPy array of integers from 1 to 100 and find all even numbers in the array.\n"
   ]
  },
  {
   "cell_type": "code",
   "execution_count": 9,
   "id": "28a61c5e",
   "metadata": {},
   "outputs": [
    {
     "name": "stdout",
     "output_type": "stream",
     "text": [
      "[  2   4   6   8  10  12  14  16  18  20  22  24  26  28  30  32  34  36\n",
      "  38  40  42  44  46  48  50  52  54  56  58  60  62  64  66  68  70  72\n",
      "  74  76  78  80  82  84  86  88  90  92  94  96  98 100]\n"
     ]
    }
   ],
   "source": [
    "# Exercise 9\n",
    "import numpy as np\n",
    "\n",
    "# Create the array\n",
    "arr = np.arange(1, 101)\n",
    "\n",
    "# Find even numbers using boolean indexing\n",
    "even_numbers = arr[arr % 2 == 0]\n",
    "\n",
    "print(even_numbers)\n"
   ]
  },
  {
   "cell_type": "markdown",
   "id": "72103956",
   "metadata": {},
   "source": [
    "\n",
    "---\n",
    "\n",
    "### Exercise 10:\n",
    "Generate a 6x6 matrix of random integers between 10 and 50.\n"
   ]
  },
  {
   "cell_type": "code",
   "execution_count": 10,
   "id": "ce04300e",
   "metadata": {},
   "outputs": [
    {
     "name": "stdout",
     "output_type": "stream",
     "text": [
      "[[10 35 27 21 36 33]\n",
      " [40 35 19 17 36 42]\n",
      " [40 28 48 18 14 19]\n",
      " [15 11 39 41 27 20]\n",
      " [32 47 20 28 48 35]\n",
      " [31 26 37 21 49 17]]\n"
     ]
    }
   ],
   "source": [
    "# Exercise 10\n",
    "import numpy as np\n",
    "\n",
    "random_int_matrix = np.random.randint(10, 51, size=(6, 6))\n",
    "print(random_int_matrix)\n"
   ]
  },
  {
   "cell_type": "markdown",
   "id": "3dd1a085",
   "metadata": {},
   "source": [
    "\n",
    "---\n",
    "\n",
    "### Exercise 11:\n",
    "Slice a 2D NumPy array to extract a submatrix.\n"
   ]
  },
  {
   "cell_type": "code",
   "execution_count": 11,
   "id": "b8fc90ba",
   "metadata": {},
   "outputs": [
    {
     "name": "stdout",
     "output_type": "stream",
     "text": [
      "[[ 6  7]\n",
      " [10 11]]\n"
     ]
    }
   ],
   "source": [
    "# Exercise 11\n",
    "import numpy as np\n",
    "\n",
    "# Create a 4x4 array\n",
    "arr = np.array([[1, 2, 3, 4],\n",
    "                 [5, 6, 7, 8],\n",
    "                 [9, 10, 11, 12],\n",
    "                 [13, 14, 15, 16]])\n",
    "\n",
    "# Extract a submatrix, e.g., the 2x2 block from the center\n",
    "submatrix = arr[1:3, 1:3]\n",
    "\n",
    "print(submatrix)\n"
   ]
  },
  {
   "cell_type": "markdown",
   "id": "73a4344c",
   "metadata": {},
   "source": [
    "\n",
    "---\n",
    "\n",
    "### Exercise 12:\n",
    "Calculate the sum of all elements in a NumPy array.\n"
   ]
  },
  {
   "cell_type": "code",
   "execution_count": 12,
   "id": "3c417ff3",
   "metadata": {},
   "outputs": [
    {
     "name": "stdout",
     "output_type": "stream",
     "text": [
      "21\n"
     ]
    }
   ],
   "source": [
    "# Exercise 12\n",
    "import numpy as np\n",
    "\n",
    "arr = np.array([[1, 2, 3],\n",
    "                 [4, 5, 6]])\n",
    "\n",
    "total_sum = arr.sum()\n",
    "print(total_sum)\n"
   ]
  },
  {
   "cell_type": "markdown",
   "id": "c2346362",
   "metadata": {},
   "source": [
    "\n",
    "---\n",
    "\n",
    "### Exercise 13:\n",
    "Calculate the mean, median, and standard deviation of a NumPy array.\n"
   ]
  },
  {
   "cell_type": "code",
   "execution_count": 13,
   "id": "95e57182",
   "metadata": {},
   "outputs": [
    {
     "name": "stdout",
     "output_type": "stream",
     "text": [
      "Mean: 5.5\n",
      "Median: 5.5\n",
      "Standard Deviation: 2.8722813232690143\n"
     ]
    }
   ],
   "source": [
    "# Exercise 13\n",
    "import numpy as np\n",
    "\n",
    "arr = np.array([1, 2, 3, 4, 5, 6, 7, 8, 9, 10])\n",
    "\n",
    "mean = np.mean(arr)\n",
    "median = np.median(arr)\n",
    "std_dev = np.std(arr)\n",
    "\n",
    "print(\"Mean:\", mean)\n",
    "print(\"Median:\", median)\n",
    "print(\"Standard Deviation:\", std_dev)\n"
   ]
  },
  {
   "cell_type": "markdown",
   "id": "67a4fdbd",
   "metadata": {},
   "source": [
    "\n",
    "---\n",
    "\n",
    "### Exercise 14:\n",
    "Find the maximum and minimum values in a NumPy array.\n"
   ]
  },
  {
   "cell_type": "code",
   "execution_count": 14,
   "id": "7959c765",
   "metadata": {},
   "outputs": [
    {
     "name": "stdout",
     "output_type": "stream",
     "text": [
      "Mean: 5.5\n",
      "Median: 5.5\n",
      "Standard Deviation: 2.8722813232690143\n"
     ]
    }
   ],
   "source": [
    "# Exercise 14\n",
    "import numpy as np\n",
    "\n",
    "arr = np.array([1, 2, 3, 4, 5, 6, 7, 8, 9, 10])\n",
    "\n",
    "mean = np.mean(arr)\n",
    "median = np.median(arr)\n",
    "std_dev = np.std(arr)\n",
    "\n",
    "print(\"Mean:\", mean)\n",
    "print(\"Median:\", median)\n",
    "print(\"Standard Deviation:\", std_dev)\n"
   ]
  },
  {
   "cell_type": "markdown",
   "id": "8a705cd1",
   "metadata": {},
   "source": [
    "\n",
    "---\n",
    "\n",
    "### Exercise 15:\n",
    "Create a NumPy array of 20 random integers and find the index of the maximum value.\n"
   ]
  },
  {
   "cell_type": "code",
   "execution_count": 15,
   "id": "c6748d73",
   "metadata": {},
   "outputs": [
    {
     "name": "stdout",
     "output_type": "stream",
     "text": [
      "Array: [99 36  2 29 91 63 92 95 23  1 48 87 80 76 81 51 58 14 45 49]\n",
      "Index of maximum value: 0\n",
      "Maximum value: 99\n"
     ]
    }
   ],
   "source": [
    "# Exercise 15\n",
    "import numpy as np\n",
    "\n",
    "# Create an array of 20 random integers between 1 and 100\n",
    "arr = np.random.randint(1, 101, size=20)\n",
    "print(\"Array:\", arr)\n",
    "\n",
    "# Find the index of the maximum value\n",
    "max_index = np.argmax(arr)\n",
    "print(\"Index of maximum value:\", max_index)\n",
    "print(\"Maximum value:\", arr[max_index])\n"
   ]
  },
  {
   "cell_type": "markdown",
   "id": "467ca6ac",
   "metadata": {},
   "source": [
    "\n",
    "---\n",
    "\n",
    "### Exercise 16:\n",
    "Create a NumPy array and reverse its elements.\n"
   ]
  },
  {
   "cell_type": "code",
   "execution_count": 16,
   "id": "0a178eb6",
   "metadata": {},
   "outputs": [
    {
     "name": "stdout",
     "output_type": "stream",
     "text": [
      "Original array: [0 1 2 3 4 5 6 7 8 9]\n",
      "Reversed array: [9 8 7 6 5 4 3 2 1 0]\n"
     ]
    }
   ],
   "source": [
    "# Exercise 16\n",
    "import numpy as np\n",
    "\n",
    "# Create an array from 0 to 9\n",
    "arr = np.arange(10)\n",
    "print(\"Original array:\", arr)\n",
    "\n",
    "# Reverse the array\n",
    "reversed_arr = arr[::-1]\n",
    "print(\"Reversed array:\", reversed_arr)\n"
   ]
  },
  {
   "cell_type": "markdown",
   "id": "b7d8ec92",
   "metadata": {},
   "source": [
    "\n",
    "---\n",
    "\n",
    "### Exercise 17:\n",
    "Create a 3x3 matrix and multiply it element-wise by another 3x3 matrix.\n"
   ]
  },
  {
   "cell_type": "code",
   "execution_count": 17,
   "id": "847ddc05",
   "metadata": {},
   "outputs": [
    {
     "name": "stdout",
     "output_type": "stream",
     "text": [
      "Matrix A:\n",
      "[[1 2 3]\n",
      " [4 5 6]\n",
      " [7 8 9]]\n",
      "\n",
      "Matrix B:\n",
      "[[9 8 7]\n",
      " [6 5 4]\n",
      " [3 2 1]]\n",
      "\n",
      "Element-wise multiplication result:\n",
      "[[ 9 16 21]\n",
      " [24 25 24]\n",
      " [21 16  9]]\n"
     ]
    }
   ],
   "source": [
    "# Exercise 17\n",
    "import numpy as np\n",
    "\n",
    "# Create two 3x3 matrices\n",
    "A = np.array([[1, 2, 3],\n",
    "               [4, 5, 6],\n",
    "               [7, 8, 9]])\n",
    "\n",
    "B = np.array([[9, 8, 7],\n",
    "               [6, 5, 4],\n",
    "               [3, 2, 1]])\n",
    "\n",
    "# Element-wise multiplication\n",
    "C = A * B\n",
    "\n",
    "print(\"Matrix A:\")\n",
    "print(A)\n",
    "print(\"\\nMatrix B:\")\n",
    "print(B)\n",
    "print(\"\\nElement-wise multiplication result:\")\n",
    "print(C)\n"
   ]
  },
  {
   "cell_type": "markdown",
   "id": "58512446",
   "metadata": {},
   "source": [
    "\n",
    "---\n",
    "\n",
    "### Exercise 18:\n",
    "Create a diagonal matrix from a given 1D array.\n"
   ]
  },
  {
   "cell_type": "code",
   "execution_count": 18,
   "id": "bd7e9321",
   "metadata": {},
   "outputs": [
    {
     "name": "stdout",
     "output_type": "stream",
     "text": [
      "1D Array:\n",
      "[1 2 3 4]\n",
      "\n",
      "Diagonal Matrix:\n",
      "[[1 0 0 0]\n",
      " [0 2 0 0]\n",
      " [0 0 3 0]\n",
      " [0 0 0 4]]\n"
     ]
    }
   ],
   "source": [
    "# Exercise 18\n",
    "import numpy as np\n",
    "\n",
    "# Example 1D array\n",
    "arr = np.array([1, 2, 3, 4])\n",
    "\n",
    "# Create diagonal matrix\n",
    "diag_matrix = np.diag(arr)\n",
    "\n",
    "print(\"1D Array:\")\n",
    "print(arr)\n",
    "print(\"\\nDiagonal Matrix:\")\n",
    "print(diag_matrix)\n"
   ]
  },
  {
   "cell_type": "markdown",
   "id": "10be19e0",
   "metadata": {},
   "source": [
    "\n",
    "---\n",
    "\n",
    "### Exercise 19:\n",
    "Perform matrix multiplication on two 2D NumPy arrays.\n"
   ]
  },
  {
   "cell_type": "code",
   "execution_count": 19,
   "id": "c287973c",
   "metadata": {},
   "outputs": [
    {
     "name": "stdout",
     "output_type": "stream",
     "text": [
      "Matrix A:\n",
      "[[1 2]\n",
      " [3 4]]\n",
      "\n",
      "Matrix B:\n",
      "[[5 6]\n",
      " [7 8]]\n",
      "\n",
      "Matrix multiplication result:\n",
      "[[19 22]\n",
      " [43 50]]\n"
     ]
    }
   ],
   "source": [
    "# Exercise 19\n",
    "import numpy as np\n",
    "\n",
    "# Create two 2D arrays (matrices)\n",
    "A = np.array([[1, 2],\n",
    "               [3, 4]])\n",
    "\n",
    "B = np.array([[5, 6],\n",
    "               [7, 8]])\n",
    "\n",
    "# Matrix multiplication\n",
    "C = np.dot(A, B)\n",
    "# Or equivalently:\n",
    "# C = A @ B\n",
    "\n",
    "print(\"Matrix A:\")\n",
    "print(A)\n",
    "print(\"\\nMatrix B:\")\n",
    "print(B)\n",
    "print(\"\\nMatrix multiplication result:\")\n",
    "print(C)\n"
   ]
  },
  {
   "cell_type": "markdown",
   "id": "932aa100",
   "metadata": {},
   "source": [
    "\n",
    "---\n",
    "\n",
    "### Exercise 20:\n",
    "Flatten a 2D NumPy array into a 1D array.\n"
   ]
  },
  {
   "cell_type": "code",
   "execution_count": 20,
   "id": "0b2a7505",
   "metadata": {},
   "outputs": [
    {
     "name": "stdout",
     "output_type": "stream",
     "text": [
      "2D Array:\n",
      "[[1 2 3]\n",
      " [4 5 6]]\n",
      "\n",
      "Flattened 1D Array:\n",
      "[1 2 3 4 5 6]\n"
     ]
    }
   ],
   "source": [
    "# Exercise 20\n",
    "import numpy as np\n",
    "\n",
    "# Example 2D array\n",
    "arr_2d = np.array([[1, 2, 3],\n",
    "                    [4, 5, 6]])\n",
    "\n",
    "# Flatten to 1D\n",
    "flattened = arr_2d.flatten()\n",
    "# Or equivalently:\n",
    "# flattened = arr_2d.ravel()\n",
    "\n",
    "print(\"2D Array:\")\n",
    "print(arr_2d)\n",
    "print(\"\\nFlattened 1D Array:\")\n",
    "print(flattened)\n"
   ]
  },
  {
   "cell_type": "markdown",
   "id": "43e4204e",
   "metadata": {},
   "source": [
    "\n",
    "---\n",
    "\n",
    "### Exercise 21:\n",
    "Stack two NumPy arrays vertically.\n"
   ]
  },
  {
   "cell_type": "code",
   "execution_count": 21,
   "id": "2fab6ed6",
   "metadata": {},
   "outputs": [
    {
     "name": "stdout",
     "output_type": "stream",
     "text": [
      "Array 1: [1 2 3]\n",
      "Array 2: [4 5 6]\n",
      "\n",
      "Stacked vertically:\n",
      "[[1 2 3]\n",
      " [4 5 6]]\n"
     ]
    }
   ],
   "source": [
    "# Exercise 21\n",
    "import numpy as np\n",
    "\n",
    "# Example arrays\n",
    "arr1 = np.array([1, 2, 3])\n",
    "arr2 = np.array([4, 5, 6])\n",
    "\n",
    "# Stack vertically\n",
    "stacked = np.vstack((arr1, arr2))\n",
    "\n",
    "print(\"Array 1:\", arr1)\n",
    "print(\"Array 2:\", arr2)\n",
    "print(\"\\nStacked vertically:\")\n",
    "print(stacked)\n"
   ]
  },
  {
   "cell_type": "markdown",
   "id": "54a62aed",
   "metadata": {},
   "source": [
    "\n",
    "---\n",
    "\n",
    "### Exercise 22:\n",
    "Stack two NumPy arrays horizontally.\n"
   ]
  },
  {
   "cell_type": "code",
   "execution_count": 22,
   "id": "38c62fcb",
   "metadata": {},
   "outputs": [
    {
     "name": "stdout",
     "output_type": "stream",
     "text": [
      "Array 1: [1 2 3]\n",
      "Array 2: [4 5 6]\n",
      "\n",
      "Stacked vertically:\n",
      "[[1 2 3]\n",
      " [4 5 6]]\n"
     ]
    }
   ],
   "source": [
    "# Exercise 22\n",
    "import numpy as np\n",
    "\n",
    "# Example arrays\n",
    "arr1 = np.array([1, 2, 3])\n",
    "arr2 = np.array([4, 5, 6])\n",
    "\n",
    "# Stack vertically\n",
    "stacked = np.vstack((arr1, arr2))\n",
    "\n",
    "print(\"Array 1:\", arr1)\n",
    "print(\"Array 2:\", arr2)\n",
    "print(\"\\nStacked vertically:\")\n",
    "print(stacked)\n"
   ]
  },
  {
   "cell_type": "markdown",
   "id": "348ee442",
   "metadata": {},
   "source": [
    "\n",
    "---\n",
    "\n",
    "### Exercise 23:\n",
    "Split a NumPy array into multiple sub-arrays.\n"
   ]
  },
  {
   "cell_type": "code",
   "execution_count": 23,
   "id": "bb591997",
   "metadata": {},
   "outputs": [
    {
     "name": "stdout",
     "output_type": "stream",
     "text": [
      "Sub-array 0: [0 1 2]\n",
      "Sub-array 1: [3 4 5]\n",
      "Sub-array 2: [6 7 8]\n"
     ]
    }
   ],
   "source": [
    "# Exercise 23\n",
    "import numpy as np\n",
    "\n",
    "arr = np.arange(9)  # array([0, 1, 2, 3, 4, 5, 6, 7, 8])\n",
    "\n",
    "# Split into 3 equal parts\n",
    "sub_arrays = np.split(arr, 3)\n",
    "\n",
    "for i, sub in enumerate(sub_arrays):\n",
    "    print(f\"Sub-array {i}: {sub}\")\n"
   ]
  },
  {
   "cell_type": "markdown",
   "id": "b1f38f5f",
   "metadata": {},
   "source": [
    "\n",
    "---\n",
    "\n",
    "### Exercise 24:\n",
    "Generate a random NumPy array and round each element to two decimal places.\n"
   ]
  },
  {
   "cell_type": "code",
   "execution_count": 24,
   "id": "9627a34c",
   "metadata": {},
   "outputs": [
    {
     "name": "stdout",
     "output_type": "stream",
     "text": [
      "Original array:\n",
      "[0.50266468 0.71662598 0.29153767 0.24687736 0.74200401 0.25971664\n",
      " 0.84924175 0.30308905 0.88749349 0.0160175 ]\n",
      "\n",
      "Rounded array:\n",
      "[0.5  0.72 0.29 0.25 0.74 0.26 0.85 0.3  0.89 0.02]\n"
     ]
    }
   ],
   "source": [
    "# Exercise 24\n",
    "import numpy as np\n",
    "\n",
    "# Generate a 1D array of 10 random floats between 0 and 1\n",
    "arr = np.random.rand(10)\n",
    "\n",
    "print(\"Original array:\")\n",
    "print(arr)\n",
    "\n",
    "# Round each element to 2 decimal places\n",
    "rounded_arr = np.round(arr, 2)\n",
    "\n",
    "print(\"\\nRounded array:\")\n",
    "print(rounded_arr)\n"
   ]
  },
  {
   "cell_type": "markdown",
   "id": "33eff49a",
   "metadata": {},
   "source": [
    "\n",
    "---\n",
    "\n",
    "### Exercise 25:\n",
    "Find the unique elements of a NumPy array.\n"
   ]
  },
  {
   "cell_type": "code",
   "execution_count": 25,
   "id": "820d6014",
   "metadata": {},
   "outputs": [
    {
     "name": "stdout",
     "output_type": "stream",
     "text": [
      "Unique elements: [1 2 3 4 5 6]\n"
     ]
    }
   ],
   "source": [
    "# Exercise 25\n",
    "import numpy as np\n",
    "\n",
    "arr = np.array([1, 2, 2, 3, 4, 4, 5, 1, 6])\n",
    "\n",
    "unique_elements = np.unique(arr)\n",
    "\n",
    "print(\"Unique elements:\", unique_elements)\n"
   ]
  },
  {
   "cell_type": "markdown",
   "id": "a82dfd26",
   "metadata": {},
   "source": [
    "\n",
    "---\n",
    "\n",
    "### Exercise 26:\n",
    "Replace all elements in a NumPy array that are less than a specific value with that value.\n"
   ]
  },
  {
   "cell_type": "code",
   "execution_count": 26,
   "id": "9317d8ff",
   "metadata": {},
   "outputs": [
    {
     "name": "stdout",
     "output_type": "stream",
     "text": [
      "[3 5 3 8 3 3 7]\n"
     ]
    }
   ],
   "source": [
    "# Exercise 26\n",
    "import numpy as np\n",
    "\n",
    "arr = np.array([1, 5, 2, 8, 3, 0, 7])\n",
    "threshold = 3\n",
    "\n",
    "# Replace elements less than threshold with threshold value\n",
    "arr[arr < threshold] = threshold\n",
    "\n",
    "print(arr)\n"
   ]
  },
  {
   "cell_type": "markdown",
   "id": "0b211e1c",
   "metadata": {},
   "source": [
    "\n",
    "---\n",
    "\n",
    "### Exercise 27:\n",
    "Find the cumulative sum of the elements in a NumPy array.\n"
   ]
  },
  {
   "cell_type": "code",
   "execution_count": 27,
   "id": "d03b7264",
   "metadata": {},
   "outputs": [
    {
     "name": "stdout",
     "output_type": "stream",
     "text": [
      "[ 1  3  6 10 15]\n"
     ]
    }
   ],
   "source": [
    "# Exercise 27\n",
    "import numpy as np\n",
    "\n",
    "arr = np.array([1, 2, 3, 4, 5])\n",
    "\n",
    "cumsum = np.cumsum(arr)\n",
    "print(cumsum)\n"
   ]
  },
  {
   "cell_type": "markdown",
   "id": "837642b7",
   "metadata": {},
   "source": [
    "\n",
    "---\n",
    "\n",
    "### Exercise 28:\n",
    "Create a NumPy array and find the number of non-zero elements in it.\n"
   ]
  },
  {
   "cell_type": "code",
   "execution_count": 28,
   "id": "fa2565c6",
   "metadata": {},
   "outputs": [
    {
     "name": "stdout",
     "output_type": "stream",
     "text": [
      "Number of non-zero elements: 4\n"
     ]
    }
   ],
   "source": [
    "# Exercise 28\n",
    "import numpy as np\n",
    "\n",
    "arr = np.array([0, 1, 2, 0, 3, 0, 4])\n",
    "\n",
    "non_zero_count = np.count_nonzero(arr)\n",
    "print(\"Number of non-zero elements:\", non_zero_count)\n"
   ]
  },
  {
   "cell_type": "markdown",
   "id": "7d1f3704",
   "metadata": {},
   "source": [
    "\n",
    "---\n",
    "\n",
    "### Exercise 29:\n",
    "Create a NumPy array of random integers and sort it in ascending order.\n"
   ]
  },
  {
   "cell_type": "code",
   "execution_count": 29,
   "id": "dfa23a6e",
   "metadata": {},
   "outputs": [
    {
     "name": "stdout",
     "output_type": "stream",
     "text": [
      "Original array: [64  5 92 99 38 96 52 34 78 51]\n",
      "Sorted array: [ 5 34 38 51 52 64 78 92 96 99]\n"
     ]
    }
   ],
   "source": [
    "# Exercise 29\n",
    "import numpy as np\n",
    "\n",
    "# Create an array of 10 random integers between 1 and 100\n",
    "arr = np.random.randint(1, 101, size=10)\n",
    "print(\"Original array:\", arr)\n",
    "\n",
    "# Sort the array in ascending order\n",
    "sorted_arr = np.sort(arr)\n",
    "print(\"Sorted array:\", sorted_arr)\n"
   ]
  },
  {
   "cell_type": "markdown",
   "id": "295b7ea8",
   "metadata": {},
   "source": [
    "\n",
    "---\n",
    "\n",
    "### Exercise 30:\n",
    "Find the row-wise and column-wise sum of a 3x3 matrix.\n"
   ]
  },
  {
   "cell_type": "code",
   "execution_count": 30,
   "id": "963df701",
   "metadata": {},
   "outputs": [
    {
     "name": "stdout",
     "output_type": "stream",
     "text": [
      "Matrix:\n",
      "[[1 2 3]\n",
      " [4 5 6]\n",
      " [7 8 9]]\n",
      "\n",
      "Row-wise sum: [ 6 15 24]\n",
      "Column-wise sum: [12 15 18]\n"
     ]
    }
   ],
   "source": [
    "# Exercise 30\n",
    "import numpy as np\n",
    "\n",
    "# Example 3x3 matrix\n",
    "matrix = np.array([[1, 2, 3],\n",
    "                   [4, 5, 6],\n",
    "                   [7, 8, 9]])\n",
    "\n",
    "# Row-wise sum (sum along columns)\n",
    "row_sum = matrix.sum(axis=1)\n",
    "\n",
    "# Column-wise sum (sum along rows)\n",
    "col_sum = matrix.sum(axis=0)\n",
    "\n",
    "print(\"Matrix:\")\n",
    "print(matrix)\n",
    "print(\"\\nRow-wise sum:\", row_sum)\n",
    "print(\"Column-wise sum:\", col_sum)\n"
   ]
  },
  {
   "cell_type": "markdown",
   "id": "158756fa",
   "metadata": {},
   "source": [
    "\n",
    "---\n",
    "\n",
    "### Exercise 31:\n",
    "Generate a 2D NumPy array with random values and normalize it (scale the values between 0 and 1).\n"
   ]
  },
  {
   "cell_type": "code",
   "execution_count": 31,
   "id": "32ba8b29",
   "metadata": {},
   "outputs": [
    {
     "name": "stdout",
     "output_type": "stream",
     "text": [
      "Original array:\n",
      "[[52.84657512 93.72066344 69.22850116]\n",
      " [56.31044021 79.14629088 28.78517311]\n",
      " [38.61467092 10.89153106 60.94737819]]\n",
      "\n",
      "Normalized array (values between 0 and 1):\n",
      "[[0.50652521 1.         0.70430498]\n",
      " [0.54834462 0.82404292 0.21603078]\n",
      " [0.33470277 0.         0.60432659]]\n"
     ]
    }
   ],
   "source": [
    "# Exercise 31\n",
    "import numpy as np\n",
    "\n",
    "# Generate a 3x3 array with random values\n",
    "arr = np.random.rand(3, 3) * 100  # random values between 0 and 100\n",
    "print(\"Original array:\")\n",
    "print(arr)\n",
    "\n",
    "# Normalize the array: (arr - min) / (max - min)\n",
    "arr_min = arr.min()\n",
    "arr_max = arr.max()\n",
    "normalized_arr = (arr - arr_min) / (arr_max - arr_min)\n",
    "\n",
    "print(\"\\nNormalized array (values between 0 and 1):\")\n",
    "print(normalized_arr)\n"
   ]
  },
  {
   "cell_type": "markdown",
   "id": "d3eeceaa",
   "metadata": {},
   "source": [
    "\n",
    "---\n",
    "\n",
    "### Exercise 32:\n",
    "Create two NumPy arrays and find the dot product.\n"
   ]
  },
  {
   "cell_type": "code",
   "execution_count": 32,
   "id": "5722e16b",
   "metadata": {},
   "outputs": [
    {
     "name": "stdout",
     "output_type": "stream",
     "text": [
      "Original array:\n",
      "[[91.51197259 11.16754873 38.35229799]\n",
      " [73.11553384 75.69982357 82.2660673 ]\n",
      " [96.7784292   7.25516432 28.41505193]]\n",
      "\n",
      "Normalized array (values between 0 and 1):\n",
      "[[0.9411722  0.04370243 0.34736371]\n",
      " [0.73567882 0.76454606 0.83789284]\n",
      " [1.         0.         0.23636188]]\n"
     ]
    }
   ],
   "source": [
    "# Exercise 32\n",
    "import numpy as np\n",
    "\n",
    "# Generate a 3x3 array with random values\n",
    "arr = np.random.rand(3, 3) * 100  # random values between 0 and 100\n",
    "print(\"Original array:\")\n",
    "print(arr)\n",
    "\n",
    "# Normalize the array: (arr - min) / (max - min)\n",
    "arr_min = arr.min()\n",
    "arr_max = arr.max()\n",
    "normalized_arr = (arr - arr_min) / (arr_max - arr_min)\n",
    "\n",
    "print(\"\\nNormalized array (values between 0 and 1):\")\n",
    "print(normalized_arr)\n"
   ]
  },
  {
   "cell_type": "markdown",
   "id": "5b0c848f",
   "metadata": {},
   "source": [
    "\n",
    "---\n",
    "\n",
    "### Exercise 33:\n",
    "Find the trace of a square NumPy matrix.\n"
   ]
  },
  {
   "cell_type": "code",
   "execution_count": 33,
   "id": "6d6e90c2",
   "metadata": {},
   "outputs": [
    {
     "name": "stdout",
     "output_type": "stream",
     "text": [
      "Matrix:\n",
      "[[1 2 3]\n",
      " [4 5 6]\n",
      " [7 8 9]]\n",
      "\n",
      "Trace of the matrix: 15\n"
     ]
    }
   ],
   "source": [
    "# Exercise 33\n",
    "import numpy as np\n",
    "\n",
    "# Example square matrix\n",
    "matrix = np.array([[1, 2, 3],\n",
    "                   [4, 5, 6],\n",
    "                   [7, 8, 9]])\n",
    "\n",
    "trace_value = np.trace(matrix)\n",
    "\n",
    "print(\"Matrix:\")\n",
    "print(matrix)\n",
    "print(\"\\nTrace of the matrix:\", trace_value)\n"
   ]
  },
  {
   "cell_type": "markdown",
   "id": "74f1f77e",
   "metadata": {},
   "source": [
    "\n",
    "---\n",
    "\n",
    "### Exercise 34:\n",
    "Create a 2D array and swap two rows.\n"
   ]
  },
  {
   "cell_type": "code",
   "execution_count": 34,
   "id": "24621129",
   "metadata": {},
   "outputs": [
    {
     "name": "stdout",
     "output_type": "stream",
     "text": [
      "Original array:\n",
      "[[1 2 3]\n",
      " [4 5 6]\n",
      " [7 8 9]]\n",
      "\n",
      "Array after swapping row 0 and row 2:\n",
      "[[7 8 9]\n",
      " [4 5 6]\n",
      " [1 2 3]]\n"
     ]
    }
   ],
   "source": [
    "# Exercise 34\n",
    "import numpy as np\n",
    "\n",
    "# Create a 3x3 array\n",
    "arr = np.array([[1, 2, 3],\n",
    "                [4, 5, 6],\n",
    "                [7, 8, 9]])\n",
    "\n",
    "print(\"Original array:\")\n",
    "print(arr)\n",
    "\n",
    "# Swap row 0 and row 2\n",
    "arr[[0, 2]] = arr[[2, 0]]\n",
    "\n",
    "print(\"\\nArray after swapping row 0 and row 2:\")\n",
    "print(arr)\n"
   ]
  },
  {
   "cell_type": "markdown",
   "id": "7875d348",
   "metadata": {},
   "source": [
    "\n",
    "---\n",
    "\n",
    "### Exercise 35:\n",
    "Create a 1D NumPy array and convert it into a column vector.\n"
   ]
  },
  {
   "cell_type": "code",
   "execution_count": 35,
   "id": "0039acda",
   "metadata": {},
   "outputs": [
    {
     "name": "stdout",
     "output_type": "stream",
     "text": [
      "Original 1D array:\n",
      "[1 2 3 4 5]\n",
      "\n",
      "Column vector:\n",
      "[[1]\n",
      " [2]\n",
      " [3]\n",
      " [4]\n",
      " [5]]\n"
     ]
    }
   ],
   "source": [
    "# Exercise 35\n",
    "import numpy as np\n",
    "\n",
    "# Create a 1D array\n",
    "arr = np.array([1, 2, 3, 4, 5])\n",
    "\n",
    "# Convert to column vector using reshape\n",
    "col_vector = arr.reshape(-1, 1)\n",
    "\n",
    "# Or equivalently, using np.newaxis\n",
    "# col_vector = arr[:, np.newaxis]\n",
    "\n",
    "print(\"Original 1D array:\")\n",
    "print(arr)\n",
    "print(\"\\nColumn vector:\")\n",
    "print(col_vector)\n"
   ]
  },
  {
   "cell_type": "markdown",
   "id": "234e605c",
   "metadata": {},
   "source": [
    "\n",
    "---\n",
    "\n",
    "### Exercise 36:\n",
    "Find the determinant of a 3x3 matrix.\n"
   ]
  },
  {
   "cell_type": "code",
   "execution_count": 36,
   "id": "9798d9c7",
   "metadata": {},
   "outputs": [
    {
     "name": "stdout",
     "output_type": "stream",
     "text": [
      "Matrix:\n",
      "[[1 2 3]\n",
      " [0 1 4]\n",
      " [5 6 0]]\n",
      "\n",
      "Determinant: 0.9999999999999987\n"
     ]
    }
   ],
   "source": [
    "# Exercise 36\n",
    "import numpy as np\n",
    "\n",
    "# Example 3x3 matrix\n",
    "matrix = np.array([[1, 2, 3],\n",
    "                   [0, 1, 4],\n",
    "                   [5, 6, 0]])\n",
    "\n",
    "determinant = np.linalg.det(matrix)\n",
    "\n",
    "print(\"Matrix:\")\n",
    "print(matrix)\n",
    "print(\"\\nDeterminant:\", determinant)\n"
   ]
  },
  {
   "cell_type": "markdown",
   "id": "6656af00",
   "metadata": {},
   "source": [
    "\n",
    "---\n",
    "\n",
    "### Exercise 37:\n",
    "Find the eigenvalues and eigenvectors of a 2x2 matrix.\n"
   ]
  },
  {
   "cell_type": "code",
   "execution_count": 37,
   "id": "89d64421",
   "metadata": {},
   "outputs": [
    {
     "name": "stdout",
     "output_type": "stream",
     "text": [
      "Matrix:\n",
      "[[4 2]\n",
      " [1 3]]\n",
      "\n",
      "Eigenvalues:\n",
      "[5. 2.]\n",
      "\n",
      "Eigenvectors (columns correspond to eigenvalues):\n",
      "[[ 0.89442719 -0.70710678]\n",
      " [ 0.4472136   0.70710678]]\n"
     ]
    }
   ],
   "source": [
    "# Exercise 37\n",
    "import numpy as np\n",
    "\n",
    "# Define a 2x2 matrix\n",
    "matrix = np.array([[4, 2],\n",
    "                   [1, 3]])\n",
    "\n",
    "# Compute eigenvalues and eigenvectors\n",
    "eigenvalues, eigenvectors = np.linalg.eig(matrix)\n",
    "\n",
    "print(\"Matrix:\")\n",
    "print(matrix)\n",
    "print(\"\\nEigenvalues:\")\n",
    "print(eigenvalues)\n",
    "print(\"\\nEigenvectors (columns correspond to eigenvalues):\")\n",
    "print(eigenvectors)\n"
   ]
  },
  {
   "cell_type": "markdown",
   "id": "7dc92bbb",
   "metadata": {},
   "source": [
    "\n",
    "---\n",
    "\n",
    "### Exercise 38:\n",
    "Solve a system of linear equations using NumPy.\n"
   ]
  },
  {
   "cell_type": "code",
   "execution_count": 38,
   "id": "9aad2d7e",
   "metadata": {},
   "outputs": [
    {
     "name": "stdout",
     "output_type": "stream",
     "text": [
      "Solution [x, y]: [1. 2.]\n"
     ]
    }
   ],
   "source": [
    "# Exercise 38\n",
    "import numpy as np\n",
    "\n",
    "# Coefficient matrix\n",
    "A = np.array([[2, 3],\n",
    "              [5, 4]])\n",
    "\n",
    "# Right-hand side vector\n",
    "b = np.array([8, 13])\n",
    "\n",
    "# Solve for x and y\n",
    "solution = np.linalg.solve(A, b)\n",
    "\n",
    "print(\"Solution [x, y]:\", solution)\n"
   ]
  },
  {
   "cell_type": "markdown",
   "id": "4f146ae7",
   "metadata": {},
   "source": [
    "\n",
    "---\n",
    "\n",
    "### Exercise 39:\n",
    "Add Gaussian noise to a NumPy array.\n"
   ]
  },
  {
   "cell_type": "code",
   "execution_count": 39,
   "id": "1162c82d",
   "metadata": {},
   "outputs": [
    {
     "name": "stdout",
     "output_type": "stream",
     "text": [
      "Original array: [10. 20. 30. 40. 50.]\n",
      "Gaussian noise: [ 2.83554282  4.1838291  -1.8367682  -0.20142181 -0.75909225]\n",
      "Noisy array: [12.83554282 24.1838291  28.1632318  39.79857819 49.24090775]\n"
     ]
    }
   ],
   "source": [
    "# Exercise 39\n",
    "import numpy as np\n",
    "\n",
    "# Original array\n",
    "arr = np.array([10, 20, 30, 40, 50], dtype=float)\n",
    "\n",
    "# Parameters for Gaussian noise\n",
    "mean = 0\n",
    "std_dev = 2  # standard deviation\n",
    "\n",
    "# Generate Gaussian noise\n",
    "noise = np.random.normal(mean, std_dev, arr.shape)\n",
    "\n",
    "# Add noise to original array\n",
    "noisy_arr = arr + noise\n",
    "\n",
    "print(\"Original array:\", arr)\n",
    "print(\"Gaussian noise:\", noise)\n",
    "print(\"Noisy array:\", noisy_arr)\n"
   ]
  },
  {
   "cell_type": "markdown",
   "id": "24f6d12f",
   "metadata": {},
   "source": [
    "\n",
    "---\n",
    "\n",
    "### Exercise 40:\n",
    "Create a 4x4 matrix and extract the diagonal elements.\n"
   ]
  },
  {
   "cell_type": "code",
   "execution_count": 40,
   "id": "228d823c",
   "metadata": {},
   "outputs": [
    {
     "name": "stdout",
     "output_type": "stream",
     "text": [
      "Matrix:\n",
      "[[ 1  2  3  4]\n",
      " [ 5  6  7  8]\n",
      " [ 9 10 11 12]\n",
      " [13 14 15 16]]\n",
      "\n",
      "Diagonal elements:\n",
      "[ 1  6 11 16]\n"
     ]
    }
   ],
   "source": [
    "# Exercise 40\n",
    "import numpy as np\n",
    "\n",
    "# Create a 4x4 matrix\n",
    "matrix = np.array([[ 1,  2,  3,  4],\n",
    "                   [ 5,  6,  7,  8],\n",
    "                   [ 9, 10, 11, 12],\n",
    "                   [13, 14, 15, 16]])\n",
    "\n",
    "# Extract diagonal elements\n",
    "diagonal = np.diag(matrix)\n",
    "\n",
    "print(\"Matrix:\")\n",
    "print(matrix)\n",
    "print(\"\\nDiagonal elements:\")\n",
    "print(diagonal)\n"
   ]
  },
  {
   "cell_type": "markdown",
   "id": "6fe4e0e1",
   "metadata": {},
   "source": [
    "\n",
    "---\n",
    "\n",
    "### Exercise 41:\n",
    "Generate a NumPy array of 100 random values and clip the values to a range between 10 and 50.\n"
   ]
  },
  {
   "cell_type": "code",
   "execution_count": 41,
   "id": "250c818c",
   "metadata": {},
   "outputs": [
    {
     "name": "stdout",
     "output_type": "stream",
     "text": [
      "Original array (first 10 values):\n",
      "[19.54959138 35.39025896 77.65360439 20.16017909 15.72786289  9.67316284\n",
      " 31.09089209 23.70755917 19.03797078 23.35294248]\n",
      "\n",
      "Clipped array (first 10 values):\n",
      "[19.54959138 35.39025896 50.         20.16017909 15.72786289 10.\n",
      " 31.09089209 23.70755917 19.03797078 23.35294248]\n"
     ]
    }
   ],
   "source": [
    "# Exercise 41\n",
    "import numpy as np\n",
    "\n",
    "# Generate 100 random values between 0 and 100\n",
    "arr = np.random.rand(100) * 100\n",
    "\n",
    "print(\"Original array (first 10 values):\")\n",
    "print(arr[:10])\n",
    "\n",
    "# Clip values to range [10, 50]\n",
    "clipped_arr = np.clip(arr, 10, 50)\n",
    "\n",
    "print(\"\\nClipped array (first 10 values):\")\n",
    "print(clipped_arr[:10])\n"
   ]
  },
  {
   "cell_type": "markdown",
   "id": "0aa4963a",
   "metadata": {},
   "source": [
    "\n",
    "---\n",
    "\n",
    "### Exercise 42:\n",
    "Create a 2D NumPy array and replace all negative values with zero.\n"
   ]
  },
  {
   "cell_type": "code",
   "execution_count": 42,
   "id": "c33cf5e2",
   "metadata": {},
   "outputs": [
    {
     "name": "stdout",
     "output_type": "stream",
     "text": [
      "Original array:\n",
      "[[ 1 -2  3]\n",
      " [-4  5 -6]\n",
      " [ 7 -8  9]]\n",
      "\n",
      "Array after replacing negative values with zero:\n",
      "[[1 0 3]\n",
      " [0 5 0]\n",
      " [7 0 9]]\n"
     ]
    }
   ],
   "source": [
    "# Exercise 42\n",
    "import numpy as np\n",
    "\n",
    "# Create a 2D array with some negative values\n",
    "arr = np.array([[ 1, -2,  3],\n",
    "                [-4,  5, -6],\n",
    "                [ 7, -8,  9]])\n",
    "\n",
    "print(\"Original array:\")\n",
    "print(arr)\n",
    "\n",
    "# Replace negative values with zero\n",
    "arr[arr < 0] = 0\n",
    "\n",
    "print(\"\\nArray after replacing negative values with zero:\")\n",
    "print(arr)\n"
   ]
  },
  {
   "cell_type": "markdown",
   "id": "9902ee70",
   "metadata": {},
   "source": [
    "\n",
    "---\n",
    "\n",
    "### Exercise 43:\n",
    "Find the inner and outer products of two NumPy arrays.\n"
   ]
  },
  {
   "cell_type": "code",
   "execution_count": 43,
   "id": "36f488c8",
   "metadata": {},
   "outputs": [
    {
     "name": "stdout",
     "output_type": "stream",
     "text": [
      "Array a: [1 2 3]\n",
      "Array b: [4 5 6]\n",
      "\n",
      "Inner product: 32\n",
      "\n",
      "Outer product:\n",
      " [[ 4  5  6]\n",
      " [ 8 10 12]\n",
      " [12 15 18]]\n"
     ]
    }
   ],
   "source": [
    "# Exercise 43\n",
    "import numpy as np\n",
    "\n",
    "# Define two 1D arrays\n",
    "a = np.array([1, 2, 3])\n",
    "b = np.array([4, 5, 6])\n",
    "\n",
    "# Inner product (dot product)\n",
    "inner_product = np.inner(a, b)\n",
    "\n",
    "# Outer product\n",
    "outer_product = np.outer(a, b)\n",
    "\n",
    "print(\"Array a:\", a)\n",
    "print(\"Array b:\", b)\n",
    "print(\"\\nInner product:\", inner_product)\n",
    "print(\"\\nOuter product:\\n\", outer_product)\n"
   ]
  },
  {
   "cell_type": "markdown",
   "id": "7dce9fa3",
   "metadata": {},
   "source": [
    "\n",
    "---\n",
    "\n",
    "### Exercise 44:\n",
    "Calculate the pairwise distances between points in a NumPy array.\n"
   ]
  },
  {
   "cell_type": "code",
   "execution_count": 44,
   "id": "94067655",
   "metadata": {},
   "outputs": [
    {
     "name": "stdout",
     "output_type": "stream",
     "text": [
      "Pairwise distance matrix:\n",
      "[[0.         5.         8.48528137 1.41421356]\n",
      " [5.         0.         3.60555128 5.38516481]\n",
      " [8.48528137 3.60555128 0.         8.60232527]\n",
      " [1.41421356 5.38516481 8.60232527 0.        ]]\n"
     ]
    }
   ],
   "source": [
    "# Exercise 44\n",
    "import numpy as np\n",
    "from scipy.spatial import distance\n",
    "\n",
    "# Example: 4 points in 2D space\n",
    "points = np.array([[1, 2],\n",
    "                   [4, 6],\n",
    "                   [7, 8],\n",
    "                   [2, 1]])\n",
    "\n",
    "# Compute pairwise Euclidean distances\n",
    "dist_matrix = distance.cdist(points, points, 'euclidean')\n",
    "\n",
    "print(\"Pairwise distance matrix:\")\n",
    "print(dist_matrix)\n"
   ]
  },
  {
   "cell_type": "markdown",
   "id": "d4b272d3",
   "metadata": {},
   "source": [
    "\n",
    "---\n",
    "\n",
    "### Exercise 45:\n",
    "Create a structured NumPy array with fields for `name`, `age`, and `height`.\n"
   ]
  },
  {
   "cell_type": "code",
   "execution_count": 45,
   "id": "9b18e4f0",
   "metadata": {},
   "outputs": [
    {
     "name": "stdout",
     "output_type": "stream",
     "text": [
      "[('Alice', 25, 5.5) ('Bob', 30, 6. ) ('Charlie', 22, 5.8)]\n",
      "\n",
      "Names: ['Alice' 'Bob' 'Charlie']\n",
      "Ages: [25 30 22]\n",
      "Heights: [5.5 6.  5.8]\n"
     ]
    }
   ],
   "source": [
    "# Exercise 45\n",
    "import numpy as np\n",
    "\n",
    "# Define data type with named fields\n",
    "dtype = [('name', 'U10'),  # Unicode string with max length 10\n",
    "         ('age', 'i4'),    # 4-byte integer\n",
    "         ('height', 'f4')] # 4-byte float\n",
    "\n",
    "# Create structured array with sample data\n",
    "data = np.array([('Alice', 25, 5.5),\n",
    "                 ('Bob', 30, 6.0),\n",
    "                 ('Charlie', 22, 5.8)],\n",
    "                dtype=dtype)\n",
    "\n",
    "print(data)\n",
    "print(\"\\nNames:\", data['name'])\n",
    "print(\"Ages:\", data['age'])\n",
    "print(\"Heights:\", data['height'])\n"
   ]
  },
  {
   "cell_type": "markdown",
   "id": "577f3e80",
   "metadata": {},
   "source": [
    "\n",
    "---\n",
    "\n",
    "### Exercise 46:\n",
    "Create a 5x5 matrix of random integers and count the occurrences of each unique value.\n"
   ]
  },
  {
   "cell_type": "code",
   "execution_count": 46,
   "id": "639b01fd",
   "metadata": {},
   "outputs": [
    {
     "name": "stdout",
     "output_type": "stream",
     "text": [
      "Matrix:\n",
      "[[4 9 1 7 9]\n",
      " [1 0 5 9 8]\n",
      " [6 4 6 3 9]\n",
      " [1 8 8 8 5]\n",
      " [1 8 0 6 0]]\n",
      "\n",
      "Unique values: [0 1 3 4 5 6 7 8 9]\n",
      "Counts: [3 4 1 2 2 3 1 5 4]\n"
     ]
    }
   ],
   "source": [
    "# Exercise 46\n",
    "import numpy as np\n",
    "\n",
    "# Create a 5x5 matrix with random integers between 0 and 9\n",
    "matrix = np.random.randint(0, 10, size=(5, 5))\n",
    "print(\"Matrix:\")\n",
    "print(matrix)\n",
    "\n",
    "# Flatten the matrix and find unique values and their counts\n",
    "unique_values, counts = np.unique(matrix, return_counts=True)\n",
    "\n",
    "print(\"\\nUnique values:\", unique_values)\n",
    "print(\"Counts:\", counts)\n"
   ]
  },
  {
   "cell_type": "markdown",
   "id": "e716555f",
   "metadata": {},
   "source": [
    "\n",
    "---\n",
    "\n",
    "### Exercise 47:\n",
    "Generate a random 3x3 NumPy array and subtract the mean of each row from the corresponding row.\n"
   ]
  },
  {
   "cell_type": "code",
   "execution_count": 47,
   "id": "03747d27",
   "metadata": {},
   "outputs": [
    {
     "name": "stdout",
     "output_type": "stream",
     "text": [
      "Original array:\n",
      "[[0.30898001 1.15490693 1.03751469]\n",
      " [4.00455607 4.67725559 5.67577964]\n",
      " [0.73005422 9.79649731 8.85926588]]\n",
      "\n",
      "Row means:\n",
      "[[0.83380054]\n",
      " [4.78586376]\n",
      " [6.46193914]]\n",
      "\n",
      "Array after subtracting row means:\n",
      "[[-0.52482054  0.32110639  0.20371415]\n",
      " [-0.78130769 -0.10860818  0.88991587]\n",
      " [-5.73188492  3.33455817  2.39732675]]\n"
     ]
    }
   ],
   "source": [
    "# Exercise 47\n",
    "import numpy as np\n",
    "\n",
    "# Generate a random 3x3 array\n",
    "arr = np.random.rand(3, 3) * 10  # random values scaled up\n",
    "\n",
    "print(\"Original array:\")\n",
    "print(arr)\n",
    "\n",
    "# Calculate the mean of each row (keepdims=True to maintain 2D shape for broadcasting)\n",
    "row_means = arr.mean(axis=1, keepdims=True)\n",
    "\n",
    "# Subtract row means from each row\n",
    "centered_arr = arr - row_means\n",
    "\n",
    "print(\"\\nRow means:\")\n",
    "print(row_means)\n",
    "\n",
    "print(\"\\nArray after subtracting row means:\")\n",
    "print(centered_arr)\n"
   ]
  },
  {
   "cell_type": "markdown",
   "id": "89148fb1",
   "metadata": {},
   "source": [
    "\n",
    "---\n",
    "\n",
    "### Exercise 48:\n",
    "Create a NumPy array of random integers and check if any of the values are greater than 50.\n"
   ]
  },
  {
   "cell_type": "code",
   "execution_count": 48,
   "id": "d329ca63",
   "metadata": {},
   "outputs": [
    {
     "name": "stdout",
     "output_type": "stream",
     "text": [
      "Array: [ 54  97  99  81  42  32  89  95  14  34  54  90  44  41  89  30  21 100\n",
      "  53  95]\n",
      "\n",
      "Any values greater than 50? True\n"
     ]
    }
   ],
   "source": [
    "# Exercise 48\n",
    "import numpy as np\n",
    "\n",
    "# Create an array of 20 random integers between 0 and 100\n",
    "arr = np.random.randint(0, 101, size=20)\n",
    "\n",
    "print(\"Array:\", arr)\n",
    "\n",
    "# Check if any values are greater than 50\n",
    "any_greater_than_50 = np.any(arr > 50)\n",
    "\n",
    "print(\"\\nAny values greater than 50?\", any_greater_than_50)\n"
   ]
  },
  {
   "cell_type": "markdown",
   "id": "806622f5",
   "metadata": {},
   "source": [
    "\n",
    "---\n",
    "\n",
    "### Exercise 49:\n",
    "Calculate the moving average of a 1D NumPy array.\n"
   ]
  },
  {
   "cell_type": "code",
   "execution_count": 49,
   "id": "866232ff",
   "metadata": {},
   "outputs": [
    {
     "name": "stdout",
     "output_type": "stream",
     "text": [
      "Original array: [ 1  2  3  4  5  6  7  8  9 10]\n",
      "\n",
      "Moving average with window size 3:\n",
      "[2. 3. 4. 5. 6. 7. 8. 9.]\n"
     ]
    }
   ],
   "source": [
    "# Exercise 49\n",
    "import numpy as np\n",
    "\n",
    "# Example 1D array\n",
    "arr = np.array([1, 2, 3, 4, 5, 6, 7, 8, 9, 10])\n",
    "\n",
    "# Define the window size\n",
    "window_size = 3\n",
    "\n",
    "# Calculate the moving average using convolution\n",
    "moving_avg = np.convolve(arr, np.ones(window_size)/window_size, mode='valid')\n",
    "\n",
    "print(\"Original array:\", arr)\n",
    "print(f\"\\nMoving average with window size {window_size}:\")\n",
    "print(moving_avg)\n"
   ]
  },
  {
   "cell_type": "markdown",
   "id": "9313446b",
   "metadata": {},
   "source": [
    "\n",
    "---\n",
    "\n",
    "### Exercise 50:\n",
    "Find the Pearson correlation coefficient between two NumPy arrays.\n"
   ]
  },
  {
   "cell_type": "code",
   "execution_count": 50,
   "id": "09c184ab",
   "metadata": {},
   "outputs": [
    {
     "name": "stdout",
     "output_type": "stream",
     "text": [
      "Pearson correlation coefficient: -0.9999999999999999\n"
     ]
    }
   ],
   "source": [
    "# Exercise 50\n",
    "import numpy as np\n",
    "\n",
    "# Example arrays\n",
    "x = np.array([1, 2, 3, 4, 5])\n",
    "y = np.array([5, 4, 3, 2, 1])\n",
    "\n",
    "# Calculate Pearson correlation coefficient matrix\n",
    "corr_matrix = np.corrcoef(x, y)\n",
    "\n",
    "# Extract the correlation coefficient (off-diagonal element)\n",
    "pearson_corr = corr_matrix[0, 1]\n",
    "\n",
    "print(\"Pearson correlation coefficient:\", pearson_corr)\n"
   ]
  },
  {
   "cell_type": "markdown",
   "id": "8ee11395",
   "metadata": {},
   "source": [
    "\n",
    "---\n",
    "\n",
    "### Exercise 51:\n",
    "Convert a NumPy array of radians to degrees.\n"
   ]
  },
  {
   "cell_type": "code",
   "execution_count": 51,
   "id": "34ac5b8c",
   "metadata": {},
   "outputs": [
    {
     "name": "stdout",
     "output_type": "stream",
     "text": [
      "Radians: [0.         0.78539816 1.57079633 3.14159265]\n",
      "Degrees: [  0.  45.  90. 180.]\n"
     ]
    }
   ],
   "source": [
    "# Exercise 51\n",
    "import numpy as np\n",
    "\n",
    "# Array of angles in radians\n",
    "radians = np.array([0, np.pi/4, np.pi/2, np.pi])\n",
    "\n",
    "# Convert to degrees\n",
    "degrees = np.degrees(radians)\n",
    "\n",
    "print(\"Radians:\", radians)\n",
    "print(\"Degrees:\", degrees)\n"
   ]
  },
  {
   "cell_type": "markdown",
   "id": "f4fd9563",
   "metadata": {},
   "source": [
    "\n",
    "---\n",
    "\n",
    "### Exercise 52:\n",
    "Create a random NumPy array and compute its variance and standard deviation.\n"
   ]
  },
  {
   "cell_type": "code",
   "execution_count": 52,
   "id": "0559791a",
   "metadata": {},
   "outputs": [
    {
     "name": "stdout",
     "output_type": "stream",
     "text": [
      "Array: [0.16188428 0.72441653 0.13490467 0.7626773  0.95348417 0.92895936\n",
      " 0.65376733 0.33614337 0.41480199 0.0482844 ]\n",
      "\n",
      "Variance: 0.1017008270148223\n",
      "Standard Deviation: 0.3189056710295731\n"
     ]
    }
   ],
   "source": [
    "# Exercise 52\n",
    "import numpy as np\n",
    "\n",
    "# Create a random array of 10 elements\n",
    "arr = np.random.rand(10)\n",
    "\n",
    "print(\"Array:\", arr)\n",
    "\n",
    "# Calculate variance\n",
    "variance = np.var(arr)\n",
    "\n",
    "# Calculate standard deviation\n",
    "std_dev = np.std(arr)\n",
    "\n",
    "print(\"\\nVariance:\", variance)\n",
    "print(\"Standard Deviation:\", std_dev)\n"
   ]
  },
  {
   "cell_type": "markdown",
   "id": "b5bed93d",
   "metadata": {},
   "source": [
    "\n",
    "---\n",
    "\n",
    "### Exercise 53:\n",
    "Create a 2D NumPy array and find the indices of the maximum values along each axis.\n"
   ]
  },
  {
   "cell_type": "code",
   "execution_count": 53,
   "id": "37168529",
   "metadata": {},
   "outputs": [
    {
     "name": "stdout",
     "output_type": "stream",
     "text": [
      "Array:\n",
      "[[3 7 5]\n",
      " [1 6 9]\n",
      " [4 8 2]]\n",
      "\n",
      "Indices of max values along each row: [1 2 1]\n",
      "Indices of max values along each column: [2 2 1]\n"
     ]
    }
   ],
   "source": [
    "# Exercise 53\n",
    "import numpy as np\n",
    "\n",
    "# Create a 2D array\n",
    "arr = np.array([[3, 7, 5],\n",
    "                [1, 6, 9],\n",
    "                [4, 8, 2]])\n",
    "\n",
    "print(\"Array:\")\n",
    "print(arr)\n",
    "\n",
    "# Indices of max values along each row (axis=1)\n",
    "max_indices_row = np.argmax(arr, axis=1)\n",
    "\n",
    "# Indices of max values along each column (axis=0)\n",
    "max_indices_col = np.argmax(arr, axis=0)\n",
    "\n",
    "print(\"\\nIndices of max values along each row:\", max_indices_row)\n",
    "print(\"Indices of max values along each column:\", max_indices_col)\n"
   ]
  },
  {
   "cell_type": "markdown",
   "id": "fd672293",
   "metadata": {},
   "source": [
    "\n",
    "---\n",
    "\n",
    "### Exercise 54:\n",
    "Compute the inverse of a 2x2 NumPy matrix.\n"
   ]
  },
  {
   "cell_type": "code",
   "execution_count": 54,
   "id": "d9eebfee",
   "metadata": {},
   "outputs": [
    {
     "name": "stdout",
     "output_type": "stream",
     "text": [
      "Original matrix:\n",
      "[[4 7]\n",
      " [2 6]]\n",
      "\n",
      "Inverse matrix:\n",
      "[[ 0.6 -0.7]\n",
      " [-0.2  0.4]]\n"
     ]
    }
   ],
   "source": [
    "# Exercise 54\n",
    "import numpy as np\n",
    "\n",
    "# Define a 2x2 matrix\n",
    "matrix = np.array([[4, 7],\n",
    "                   [2, 6]])\n",
    "\n",
    "print(\"Original matrix:\")\n",
    "print(matrix)\n",
    "\n",
    "# Compute the inverse\n",
    "inverse_matrix = np.linalg.inv(matrix)\n",
    "\n",
    "print(\"\\nInverse matrix:\")\n",
    "print(inverse_matrix)\n"
   ]
  },
  {
   "cell_type": "markdown",
   "id": "d635d87b",
   "metadata": {},
   "source": [
    "\n",
    "---\n",
    "\n",
    "### Exercise 55:\n",
    "Create a NumPy array of 10 random values and standardize it (mean 0, variance 1).\n"
   ]
  },
  {
   "cell_type": "code",
   "execution_count": 55,
   "id": "dc8ffa7d",
   "metadata": {},
   "outputs": [
    {
     "name": "stdout",
     "output_type": "stream",
     "text": [
      "Original array:\n",
      "[0.78793607 0.22580585 0.0058506  0.73745703 0.42505039 0.96662439\n",
      " 0.10292727 0.00814577 0.13976035 0.96847226]\n",
      "\n",
      "Standardized array (mean=0, std=1):\n",
      "[ 0.94150667 -0.5657548  -1.1555293   0.80615527 -0.03151274  1.42063057\n",
      " -0.8952339  -1.14937519 -0.79647192  1.42558534]\n",
      "\n",
      "Mean: -1.554312234475219e-16\n",
      "Standard deviation: 1.0\n"
     ]
    }
   ],
   "source": [
    "# Exercise 55\n",
    "import numpy as np\n",
    "\n",
    "# Generate 10 random values\n",
    "arr = np.random.rand(10)\n",
    "\n",
    "print(\"Original array:\")\n",
    "print(arr)\n",
    "\n",
    "# Standardize the array\n",
    "standardized_arr = (arr - arr.mean()) / arr.std()\n",
    "\n",
    "print(\"\\nStandardized array (mean=0, std=1):\")\n",
    "print(standardized_arr)\n",
    "\n",
    "# Confirm mean and std\n",
    "print(\"\\nMean:\", standardized_arr.mean())\n",
    "print(\"Standard deviation:\", standardized_arr.std())\n"
   ]
  },
  {
   "cell_type": "markdown",
   "id": "6db1e281",
   "metadata": {},
   "source": [
    "\n",
    "---\n",
    "\n",
    "### Exercise 56:\n",
    "Perform element-wise addition and subtraction on two NumPy arrays.\n"
   ]
  },
  {
   "cell_type": "code",
   "execution_count": 56,
   "id": "e8d4d852",
   "metadata": {},
   "outputs": [
    {
     "name": "stdout",
     "output_type": "stream",
     "text": [
      "Array a: [1 2 3 4]\n",
      "Array b: [5 6 7 8]\n",
      "\n",
      "Element-wise addition: [ 6  8 10 12]\n",
      "Element-wise subtraction: [-4 -4 -4 -4]\n"
     ]
    }
   ],
   "source": [
    "# Exercise 56\n",
    "import numpy as np\n",
    "\n",
    "# Define two arrays\n",
    "a = np.array([1, 2, 3, 4])\n",
    "b = np.array([5, 6, 7, 8])\n",
    "\n",
    "# Element-wise addition\n",
    "addition = a + b\n",
    "\n",
    "# Element-wise subtraction\n",
    "subtraction = a - b\n",
    "\n",
    "print(\"Array a:\", a)\n",
    "print(\"Array b:\", b)\n",
    "print(\"\\nElement-wise addition:\", addition)\n",
    "print(\"Element-wise subtraction:\", subtraction)\n"
   ]
  },
  {
   "cell_type": "markdown",
   "id": "843ba956",
   "metadata": {},
   "source": [
    "\n",
    "---\n",
    "\n",
    "### Exercise 57:\n",
    "Create a NumPy array of random values and find the maximum element's index.\n"
   ]
  },
  {
   "cell_type": "code",
   "execution_count": 57,
   "id": "e4cbc318",
   "metadata": {},
   "outputs": [
    {
     "name": "stdout",
     "output_type": "stream",
     "text": [
      "Array: [0.19777853 0.14881816 0.61024888 0.27413148 0.8386343  0.71373585\n",
      " 0.00300541 0.7752001  0.95343298 0.02977698]\n",
      "\n",
      "Index of the maximum element: 8\n",
      "Maximum element: 0.9534329791991254\n"
     ]
    }
   ],
   "source": [
    "# Exercise 57\n",
    "import numpy as np\n",
    "\n",
    "# Create an array of 10 random values\n",
    "arr = np.random.rand(10)\n",
    "\n",
    "print(\"Array:\", arr)\n",
    "\n",
    "# Find the index of the maximum element\n",
    "max_index = np.argmax(arr)\n",
    "\n",
    "print(\"\\nIndex of the maximum element:\", max_index)\n",
    "print(\"Maximum element:\", arr[max_index])\n"
   ]
  },
  {
   "cell_type": "markdown",
   "id": "e8356250",
   "metadata": {},
   "source": [
    "\n",
    "---\n",
    "\n",
    "### Exercise 58:\n",
    "Create a 3x3 NumPy array and rotate it by 90 degrees.\n"
   ]
  },
  {
   "cell_type": "code",
   "execution_count": 58,
   "id": "f80c6616",
   "metadata": {},
   "outputs": [
    {
     "name": "stdout",
     "output_type": "stream",
     "text": [
      "Original array:\n",
      "[[1 2 3]\n",
      " [4 5 6]\n",
      " [7 8 9]]\n",
      "\n",
      "Array rotated by 90 degrees:\n",
      "[[3 6 9]\n",
      " [2 5 8]\n",
      " [1 4 7]]\n"
     ]
    }
   ],
   "source": [
    "# Exercise 58\n",
    "import numpy as np\n",
    "\n",
    "# Create a 3x3 array\n",
    "arr = np.array([[1, 2, 3],\n",
    "                [4, 5, 6],\n",
    "                [7, 8, 9]])\n",
    "\n",
    "print(\"Original array:\")\n",
    "print(arr)\n",
    "\n",
    "# Rotate the array by 90 degrees counter-clockwise\n",
    "rotated_arr = np.rot90(arr)\n",
    "\n",
    "print(\"\\nArray rotated by 90 degrees:\")\n",
    "print(rotated_arr)\n"
   ]
  },
  {
   "cell_type": "markdown",
   "id": "5bdbf96d",
   "metadata": {},
   "source": [
    "\n",
    "---\n",
    "\n",
    "### Exercise 59:\n",
    "Compute the Frobenius norm of a matrix.\n"
   ]
  },
  {
   "cell_type": "code",
   "execution_count": 59,
   "id": "bb81b41a",
   "metadata": {},
   "outputs": [
    {
     "name": "stdout",
     "output_type": "stream",
     "text": [
      "Matrix:\n",
      "[[1 2 3]\n",
      " [4 5 6]]\n",
      "\n",
      "Frobenius norm: 9.539392014169456\n"
     ]
    }
   ],
   "source": [
    "# Exercise 59\n",
    "import numpy as np\n",
    "\n",
    "# Example matrix\n",
    "matrix = np.array([[1, 2, 3],\n",
    "                   [4, 5, 6]])\n",
    "\n",
    "# Compute Frobenius norm\n",
    "fro_norm = np.linalg.norm(matrix, ord='fro')\n",
    "\n",
    "print(\"Matrix:\")\n",
    "print(matrix)\n",
    "print(\"\\nFrobenius norm:\", fro_norm)\n"
   ]
  },
  {
   "cell_type": "markdown",
   "id": "9388b0db",
   "metadata": {},
   "source": [
    "\n",
    "---\n",
    "\n",
    "### Exercise 60:\n",
    "Create a 3D NumPy array and slice out a subarray.\n"
   ]
  },
  {
   "cell_type": "code",
   "execution_count": 60,
   "id": "f051d3a2",
   "metadata": {},
   "outputs": [
    {
     "name": "stdout",
     "output_type": "stream",
     "text": [
      "Original 3D array:\n",
      "[[[ 0  1  2  3]\n",
      "  [ 4  5  6  7]\n",
      "  [ 8  9 10 11]]\n",
      "\n",
      " [[12 13 14 15]\n",
      "  [16 17 18 19]\n",
      "  [20 21 22 23]]]\n",
      "\n",
      "Sliced subarray:\n",
      "[[4 5]\n",
      " [8 9]]\n"
     ]
    }
   ],
   "source": [
    "# Exercise 60\n",
    "import numpy as np\n",
    "\n",
    "# Create a 3D array of shape (2, 3, 4)\n",
    "arr = np.arange(24).reshape(2, 3, 4)\n",
    "\n",
    "print(\"Original 3D array:\")\n",
    "print(arr)\n",
    "\n",
    "# Slice out a subarray:\n",
    "# Let's slice out the first \"layer\" (first axis index 0), and rows 1 to 2, columns 0 to 1\n",
    "subarray = arr[0, 1:3, 0:2]\n",
    "\n",
    "print(\"\\nSliced subarray:\")\n",
    "print(subarray)\n"
   ]
  },
  {
   "cell_type": "markdown",
   "id": "9cb79001",
   "metadata": {},
   "source": [
    "\n",
    "---"
   ]
  }
 ],
 "metadata": {
  "kernelspec": {
   "display_name": "Python 3 (ipykernel)",
   "language": "python",
   "name": "python3"
  },
  "language_info": {
   "codemirror_mode": {
    "name": "ipython",
    "version": 3
   },
   "file_extension": ".py",
   "mimetype": "text/x-python",
   "name": "python",
   "nbconvert_exporter": "python",
   "pygments_lexer": "ipython3",
   "version": "3.11.5"
  }
 },
 "nbformat": 4,
 "nbformat_minor": 5
}
